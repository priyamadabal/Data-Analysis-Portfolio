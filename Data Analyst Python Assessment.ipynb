{
 "cells": [
  {
   "cell_type": "markdown",
   "id": "3c0b65ab",
   "metadata": {},
   "source": [
    "<div class=\"row\">\n",
    "  <div class=\"col-md-11\" markdown=\"1\">\n",
    "      <h1><font size=\"+6\">Data Analyst Python Assessment</font></h1>\n",
    "  </div>\n",
    "  <div class=\"col-md-1\" markdown=\"1\">\n",
    "      <img height=\"10px\" class=\"center-block\" src=\"pi_Logo_NavyReverse.png\">\n",
    "  </div>\n",
    "</div>"
   ]
  },
  {
   "cell_type": "markdown",
   "id": "0d67ce3b",
   "metadata": {},
   "source": [
    "This assessment is designed to evaluate your fundamental Python skills in data analysis. Please provide your solutions in the designated code cells, along with any necessary explanatory comments.\n",
    "\n",
    "The primary objective is to assess your problem-solving approach and methodology, rather than the correctness of your code or results. Each answer will be evaluated based on its relevance to the given context.\n",
    "\n",
    "Data set used for this code has already been provided. More information can be found in the link below:\n",
    "\n",
    "https://open-data.bouldercolorado.gov/datasets/10c2e57f741b45428c492f67aeb98b1b_0/about"
   ]
  },
  {
   "cell_type": "markdown",
   "id": "cf494460",
   "metadata": {},
   "source": [
    "### Importing Required Libraries"
   ]
  },
  {
   "cell_type": "code",
   "execution_count": 97,
   "id": "587669c3",
   "metadata": {},
   "outputs": [],
   "source": [
    "import pandas as pd\n",
    "import matplotlib.pyplot as plt\n",
    "import matplotlib.ticker as ticker\n",
    "import warnings\n",
    "\n",
    "warnings.filterwarnings(\"ignore\")\n",
    "\n",
    "## Import any other libraries needed here"
   ]
  },
  {
   "cell_type": "markdown",
   "id": "12c35336",
   "metadata": {},
   "source": [
    "### Read the data set"
   ]
  },
  {
   "cell_type": "code",
   "execution_count": 98,
   "id": "69ce5c10",
   "metadata": {
    "scrolled": true
   },
   "outputs": [
    {
     "name": "stdout",
     "output_type": "stream",
     "text": [
      "Dataset has 381,283 rows and 11 columns\n"
     ]
    },
    {
     "data": {
      "text/html": [
       "<div>\n",
       "<style scoped>\n",
       "    .dataframe tbody tr th:only-of-type {\n",
       "        vertical-align: middle;\n",
       "    }\n",
       "\n",
       "    .dataframe tbody tr th {\n",
       "        vertical-align: top;\n",
       "    }\n",
       "\n",
       "    .dataframe thead th {\n",
       "        text-align: right;\n",
       "    }\n",
       "</style>\n",
       "<table border=\"1\" class=\"dataframe\">\n",
       "  <thead>\n",
       "    <tr style=\"text-align: right;\">\n",
       "      <th></th>\n",
       "      <th>vendor_name</th>\n",
       "      <th>transaction_date</th>\n",
       "      <th>transaction_amount</th>\n",
       "      <th>organization_code</th>\n",
       "      <th>fund</th>\n",
       "      <th>fund_desc</th>\n",
       "      <th>department</th>\n",
       "      <th>department_desc</th>\n",
       "      <th>object_code</th>\n",
       "      <th>account_description</th>\n",
       "      <th>ObjectId</th>\n",
       "    </tr>\n",
       "  </thead>\n",
       "  <tbody>\n",
       "    <tr>\n",
       "      <th>0</th>\n",
       "      <td>CGRS, INC</td>\n",
       "      <td>31/12/2023</td>\n",
       "      <td>540.00</td>\n",
       "      <td>31505010</td>\n",
       "      <td>7210</td>\n",
       "      <td>Fleet</td>\n",
       "      <td>315</td>\n",
       "      <td>Facilities &amp; Fleet</td>\n",
       "      <td>670395</td>\n",
       "      <td>Misc Purchased Services</td>\n",
       "      <td>12401</td>\n",
       "    </tr>\n",
       "    <tr>\n",
       "      <th>1</th>\n",
       "      <td>FIRE AND POLICE PENSION ASSN</td>\n",
       "      <td>31/12/2023</td>\n",
       "      <td>66231.80</td>\n",
       "      <td>110000</td>\n",
       "      <td>1100</td>\n",
       "      <td>General</td>\n",
       "      <td>0</td>\n",
       "      <td>NaN</td>\n",
       "      <td>205180</td>\n",
       "      <td>FPPA Death and Disablity</td>\n",
       "      <td>12402</td>\n",
       "    </tr>\n",
       "    <tr>\n",
       "      <th>2</th>\n",
       "      <td>AMERIGAS PROPANE LP</td>\n",
       "      <td>31/12/2023</td>\n",
       "      <td>146.31</td>\n",
       "      <td>31505010</td>\n",
       "      <td>7210</td>\n",
       "      <td>Fleet</td>\n",
       "      <td>315</td>\n",
       "      <td>Facilities &amp; Fleet</td>\n",
       "      <td>630320</td>\n",
       "      <td>Fleet:Propane Supply</td>\n",
       "      <td>12403</td>\n",
       "    </tr>\n",
       "    <tr>\n",
       "      <th>3</th>\n",
       "      <td>OVERDRIVE, INC</td>\n",
       "      <td>31/12/2023</td>\n",
       "      <td>18550.29</td>\n",
       "      <td>50525170</td>\n",
       "      <td>2200</td>\n",
       "      <td>Library</td>\n",
       "      <td>505</td>\n",
       "      <td>Library</td>\n",
       "      <td>630420</td>\n",
       "      <td>Lib:Downloadable&amp;eBooks</td>\n",
       "      <td>12404</td>\n",
       "    </tr>\n",
       "    <tr>\n",
       "      <th>4</th>\n",
       "      <td>ECO CYCLE INC</td>\n",
       "      <td>31/12/2023</td>\n",
       "      <td>271.26</td>\n",
       "      <td>61040030</td>\n",
       "      <td>6200</td>\n",
       "      <td>Wastewater Utility</td>\n",
       "      <td>610</td>\n",
       "      <td>Public Works - Utilities</td>\n",
       "      <td>670055</td>\n",
       "      <td>Solid Waste Management Fees</td>\n",
       "      <td>12405</td>\n",
       "    </tr>\n",
       "    <tr>\n",
       "      <th>5</th>\n",
       "      <td>ECO CYCLE INC</td>\n",
       "      <td>31/12/2023</td>\n",
       "      <td>784.02</td>\n",
       "      <td>14515070</td>\n",
       "      <td>1100</td>\n",
       "      <td>General</td>\n",
       "      <td>145</td>\n",
       "      <td>Climate Initiatives</td>\n",
       "      <td>670055</td>\n",
       "      <td>Solid Waste Management Fees</td>\n",
       "      <td>12406</td>\n",
       "    </tr>\n",
       "    <tr>\n",
       "      <th>6</th>\n",
       "      <td>FRONT RANGE FIRE APPARATUS, LTD</td>\n",
       "      <td>31/12/2023</td>\n",
       "      <td>4542.16</td>\n",
       "      <td>31505010</td>\n",
       "      <td>7210</td>\n",
       "      <td>Fleet</td>\n",
       "      <td>315</td>\n",
       "      <td>Facilities &amp; Fleet</td>\n",
       "      <td>660839</td>\n",
       "      <td>Flt R&amp;M: Vehicle Parts</td>\n",
       "      <td>12407</td>\n",
       "    </tr>\n",
       "    <tr>\n",
       "      <th>7</th>\n",
       "      <td>GENERAL AIR SERVICE &amp; SUPPLY</td>\n",
       "      <td>31/12/2023</td>\n",
       "      <td>121.56</td>\n",
       "      <td>61015010</td>\n",
       "      <td>6100</td>\n",
       "      <td>Water Utility</td>\n",
       "      <td>610</td>\n",
       "      <td>Public Works - Utilities</td>\n",
       "      <td>700405</td>\n",
       "      <td>Machine &amp; Equip Rentals/Leases</td>\n",
       "      <td>12408</td>\n",
       "    </tr>\n",
       "    <tr>\n",
       "      <th>8</th>\n",
       "      <td>GENERAL AIR SERVICE &amp; SUPPLY</td>\n",
       "      <td>31/12/2023</td>\n",
       "      <td>150.65</td>\n",
       "      <td>55520050</td>\n",
       "      <td>2500</td>\n",
       "      <td>Open Space</td>\n",
       "      <td>555</td>\n",
       "      <td>Open Space &amp; Mountain Parks</td>\n",
       "      <td>700495</td>\n",
       "      <td>Misc Rentals &amp; Leases</td>\n",
       "      <td>12409</td>\n",
       "    </tr>\n",
       "    <tr>\n",
       "      <th>9</th>\n",
       "      <td>GENERAL AIR SERVICE &amp; SUPPLY</td>\n",
       "      <td>31/12/2023</td>\n",
       "      <td>194.12</td>\n",
       "      <td>61020010</td>\n",
       "      <td>6100</td>\n",
       "      <td>Water Utility</td>\n",
       "      <td>610</td>\n",
       "      <td>Public Works - Utilities</td>\n",
       "      <td>660996</td>\n",
       "      <td>R&amp;M: Miscellaneous</td>\n",
       "      <td>12410</td>\n",
       "    </tr>\n",
       "  </tbody>\n",
       "</table>\n",
       "</div>"
      ],
      "text/plain": [
       "                       vendor_name transaction_date  transaction_amount  \\\n",
       "0                        CGRS, INC       31/12/2023              540.00   \n",
       "1     FIRE AND POLICE PENSION ASSN       31/12/2023            66231.80   \n",
       "2              AMERIGAS PROPANE LP       31/12/2023              146.31   \n",
       "3                   OVERDRIVE, INC       31/12/2023            18550.29   \n",
       "4                    ECO CYCLE INC       31/12/2023              271.26   \n",
       "5                    ECO CYCLE INC       31/12/2023              784.02   \n",
       "6  FRONT RANGE FIRE APPARATUS, LTD       31/12/2023             4542.16   \n",
       "7     GENERAL AIR SERVICE & SUPPLY       31/12/2023              121.56   \n",
       "8     GENERAL AIR SERVICE & SUPPLY       31/12/2023              150.65   \n",
       "9     GENERAL AIR SERVICE & SUPPLY       31/12/2023              194.12   \n",
       "\n",
       "   organization_code  fund           fund_desc  department  \\\n",
       "0           31505010  7210               Fleet         315   \n",
       "1             110000  1100             General           0   \n",
       "2           31505010  7210               Fleet         315   \n",
       "3           50525170  2200             Library         505   \n",
       "4           61040030  6200  Wastewater Utility         610   \n",
       "5           14515070  1100             General         145   \n",
       "6           31505010  7210               Fleet         315   \n",
       "7           61015010  6100       Water Utility         610   \n",
       "8           55520050  2500          Open Space         555   \n",
       "9           61020010  6100       Water Utility         610   \n",
       "\n",
       "               department_desc  object_code             account_description  \\\n",
       "0           Facilities & Fleet       670395         Misc Purchased Services   \n",
       "1                          NaN       205180        FPPA Death and Disablity   \n",
       "2           Facilities & Fleet       630320            Fleet:Propane Supply   \n",
       "3                      Library       630420         Lib:Downloadable&eBooks   \n",
       "4     Public Works - Utilities       670055     Solid Waste Management Fees   \n",
       "5          Climate Initiatives       670055     Solid Waste Management Fees   \n",
       "6           Facilities & Fleet       660839          Flt R&M: Vehicle Parts   \n",
       "7     Public Works - Utilities       700405  Machine & Equip Rentals/Leases   \n",
       "8  Open Space & Mountain Parks       700495           Misc Rentals & Leases   \n",
       "9     Public Works - Utilities       660996              R&M: Miscellaneous   \n",
       "\n",
       "   ObjectId  \n",
       "0     12401  \n",
       "1     12402  \n",
       "2     12403  \n",
       "3     12404  \n",
       "4     12405  \n",
       "5     12406  \n",
       "6     12407  \n",
       "7     12408  \n",
       "8     12409  \n",
       "9     12410  "
      ]
     },
     "execution_count": 98,
     "metadata": {},
     "output_type": "execute_result"
    }
   ],
   "source": [
    "ap_data = pd.read_csv('Accounts_Payable.csv')\n",
    "print('Dataset has {:,} rows and {:,} columns'.format(ap_data.shape[0], ap_data.shape[1]))\n",
    "\n",
    "ap_data.head(10)"
   ]
  },
  {
   "cell_type": "code",
   "execution_count": 99,
   "id": "7ab4b1fe-11d4-4c03-98fb-27b838397fd8",
   "metadata": {},
   "outputs": [],
   "source": [
    "#### Ques 1 - Which columns in the dataset have blank cells? For those that have blank cells, what % of the total row count are blank?"
   ]
  },
  {
   "cell_type": "code",
   "execution_count": 100,
   "id": "9aca8f3a",
   "metadata": {
    "scrolled": true
   },
   "outputs": [
    {
     "data": {
      "text/plain": [
       "Index(['vendor_name', 'transaction_date', 'transaction_amount',\n",
       "       'organization_code', 'fund', 'fund_desc', 'department',\n",
       "       'department_desc', 'object_code', 'account_description', 'ObjectId'],\n",
       "      dtype='object')"
      ]
     },
     "execution_count": 100,
     "metadata": {},
     "output_type": "execute_result"
    }
   ],
   "source": [
    "### Hint : only columns that can logically be aggregated for relevant analysis should be numeric\n",
    "## Write code here\n",
    "\n",
    "#checking columns\n",
    "ap_data.columns"
   ]
  },
  {
   "cell_type": "code",
   "execution_count": 101,
   "id": "84e6fa43-9911-4457-baac-ac398696ecef",
   "metadata": {
    "scrolled": true
   },
   "outputs": [
    {
     "data": {
      "text/plain": [
       "vendor_name               0\n",
       "transaction_date          0\n",
       "transaction_amount        0\n",
       "organization_code         0\n",
       "fund                      0\n",
       "fund_desc                 0\n",
       "department                0\n",
       "department_desc        8765\n",
       "object_code               0\n",
       "account_description       0\n",
       "ObjectId                  0\n",
       "dtype: int64"
      ]
     },
     "execution_count": 101,
     "metadata": {},
     "output_type": "execute_result"
    }
   ],
   "source": [
    "#checking for null values/blank columns\n",
    "ap_data.isna().sum()"
   ]
  },
  {
   "cell_type": "code",
   "execution_count": 102,
   "id": "2ed95f11-031b-4bdd-8017-59fa97a9c687",
   "metadata": {},
   "outputs": [
    {
     "data": {
      "text/plain": [
       "vendor_name            0.000000\n",
       "transaction_date       0.000000\n",
       "transaction_amount     0.000000\n",
       "organization_code      0.000000\n",
       "fund                   0.000000\n",
       "fund_desc              0.000000\n",
       "department             0.000000\n",
       "department_desc        2.298817\n",
       "object_code            0.000000\n",
       "account_description    0.000000\n",
       "ObjectId               0.000000\n",
       "dtype: float64"
      ]
     },
     "execution_count": 102,
     "metadata": {},
     "output_type": "execute_result"
    }
   ],
   "source": [
    "(ap_data.isna().sum() / len(ap_data)) * 100"
   ]
  },
  {
   "cell_type": "markdown",
   "id": "5f8ea2d4-1250-445b-8539-bac34f2291e4",
   "metadata": {},
   "source": [
    "We can see that only the department_desc column has null value of 8765. It has approximately 2.3% of total row count blank. Since the categorical value is NA in excel and we do not know the significance of this, we will keep it as 'Unknown'."
   ]
  },
  {
   "cell_type": "code",
   "execution_count": 103,
   "id": "92f9d20c-3c6f-4eca-89ea-bc86252afe91",
   "metadata": {},
   "outputs": [
    {
     "data": {
      "text/plain": [
       "vendor_name            0\n",
       "transaction_date       0\n",
       "transaction_amount     0\n",
       "organization_code      0\n",
       "fund                   0\n",
       "fund_desc              0\n",
       "department             0\n",
       "department_desc        0\n",
       "object_code            0\n",
       "account_description    0\n",
       "ObjectId               0\n",
       "dtype: int64"
      ]
     },
     "execution_count": 103,
     "metadata": {},
     "output_type": "execute_result"
    }
   ],
   "source": [
    "#replacing missing values to Unknonw\n",
    "ap_data['department_desc'].fillna('Unknown', inplace=True)\n",
    "\n",
    "#confirming missing values again\n",
    "ap_data.isna().sum()\n",
    "\n"
   ]
  },
  {
   "cell_type": "code",
   "execution_count": 104,
   "id": "01afc445-11cb-4ba5-8ff4-8e09d0e873c0",
   "metadata": {},
   "outputs": [
    {
     "data": {
      "text/plain": [
       "8765"
      ]
     },
     "execution_count": 104,
     "metadata": {},
     "output_type": "execute_result"
    }
   ],
   "source": [
    "\n",
    "#checking how many unknowns were inserted\n",
    "(ap_data['department_desc'] == 'Unknown').sum()\n"
   ]
  },
  {
   "cell_type": "markdown",
   "id": "1d43fdd7",
   "metadata": {},
   "source": [
    "#### Ques 2 - Looking at the column headers, what data type should each be based on the context of the data? Convert the columns to the necessary data types where needed."
   ]
  },
  {
   "cell_type": "code",
   "execution_count": 105,
   "id": "1e3349f5",
   "metadata": {},
   "outputs": [
    {
     "data": {
      "text/plain": [
       "vendor_name             object\n",
       "transaction_date        object\n",
       "transaction_amount     float64\n",
       "organization_code        int64\n",
       "fund                     int64\n",
       "fund_desc               object\n",
       "department               int64\n",
       "department_desc         object\n",
       "object_code              int64\n",
       "account_description     object\n",
       "ObjectId                 int64\n",
       "dtype: object"
      ]
     },
     "execution_count": 105,
     "metadata": {},
     "output_type": "execute_result"
    }
   ],
   "source": [
    "## Write code here\n",
    "\n",
    "ap_data.dtypes"
   ]
  },
  {
   "cell_type": "markdown",
   "id": "40084967-5a5b-4197-9ab9-f7798b0c6e13",
   "metadata": {},
   "source": [
    "transaction_date to be converted to date-time datatype. "
   ]
  },
  {
   "cell_type": "code",
   "execution_count": 106,
   "id": "dcaf271e-c77c-4b11-8a1d-d5feae1372c8",
   "metadata": {},
   "outputs": [
    {
     "data": {
      "text/plain": [
       "vendor_name                    object\n",
       "transaction_date       datetime64[ns]\n",
       "transaction_amount            float64\n",
       "organization_code              object\n",
       "fund                           object\n",
       "fund_desc                      object\n",
       "department                     object\n",
       "department_desc                object\n",
       "object_code                     int64\n",
       "account_description            object\n",
       "ObjectId                        int64\n",
       "dtype: object"
      ]
     },
     "execution_count": 106,
     "metadata": {},
     "output_type": "execute_result"
    }
   ],
   "source": [
    "# Convert transaction_date to datetime\n",
    "ap_data['transaction_date'] = pd.to_datetime(ap_data['transaction_date'])\n",
    "\n",
    "converted = ['organization_code', 'fund', 'department']\n",
    "ap_data[converted] = ap_data[converted].astype(str)\n",
    "\n",
    "ap_data.dtypes"
   ]
  },
  {
   "cell_type": "code",
   "execution_count": 107,
   "id": "71485c87-ae6f-4831-8df9-d15b7e988c2d",
   "metadata": {},
   "outputs": [
    {
     "data": {
      "text/html": [
       "<div>\n",
       "<style scoped>\n",
       "    .dataframe tbody tr th:only-of-type {\n",
       "        vertical-align: middle;\n",
       "    }\n",
       "\n",
       "    .dataframe tbody tr th {\n",
       "        vertical-align: top;\n",
       "    }\n",
       "\n",
       "    .dataframe thead th {\n",
       "        text-align: right;\n",
       "    }\n",
       "</style>\n",
       "<table border=\"1\" class=\"dataframe\">\n",
       "  <thead>\n",
       "    <tr style=\"text-align: right;\">\n",
       "      <th></th>\n",
       "      <th>vendor_name</th>\n",
       "      <th>transaction_date</th>\n",
       "      <th>transaction_amount</th>\n",
       "      <th>organization_code</th>\n",
       "      <th>fund</th>\n",
       "      <th>fund_desc</th>\n",
       "      <th>department</th>\n",
       "      <th>department_desc</th>\n",
       "      <th>object_code</th>\n",
       "      <th>account_description</th>\n",
       "      <th>ObjectId</th>\n",
       "    </tr>\n",
       "  </thead>\n",
       "  <tbody>\n",
       "    <tr>\n",
       "      <th>0</th>\n",
       "      <td>CGRS, INC</td>\n",
       "      <td>2023-12-31</td>\n",
       "      <td>540.00</td>\n",
       "      <td>31505010</td>\n",
       "      <td>7210</td>\n",
       "      <td>Fleet</td>\n",
       "      <td>315</td>\n",
       "      <td>Facilities &amp; Fleet</td>\n",
       "      <td>670395</td>\n",
       "      <td>Misc Purchased Services</td>\n",
       "      <td>12401</td>\n",
       "    </tr>\n",
       "    <tr>\n",
       "      <th>1</th>\n",
       "      <td>FIRE AND POLICE PENSION ASSN</td>\n",
       "      <td>2023-12-31</td>\n",
       "      <td>66231.80</td>\n",
       "      <td>110000</td>\n",
       "      <td>1100</td>\n",
       "      <td>General</td>\n",
       "      <td>0</td>\n",
       "      <td>Unknown</td>\n",
       "      <td>205180</td>\n",
       "      <td>FPPA Death and Disablity</td>\n",
       "      <td>12402</td>\n",
       "    </tr>\n",
       "    <tr>\n",
       "      <th>2</th>\n",
       "      <td>AMERIGAS PROPANE LP</td>\n",
       "      <td>2023-12-31</td>\n",
       "      <td>146.31</td>\n",
       "      <td>31505010</td>\n",
       "      <td>7210</td>\n",
       "      <td>Fleet</td>\n",
       "      <td>315</td>\n",
       "      <td>Facilities &amp; Fleet</td>\n",
       "      <td>630320</td>\n",
       "      <td>Fleet:Propane Supply</td>\n",
       "      <td>12403</td>\n",
       "    </tr>\n",
       "    <tr>\n",
       "      <th>3</th>\n",
       "      <td>OVERDRIVE, INC</td>\n",
       "      <td>2023-12-31</td>\n",
       "      <td>18550.29</td>\n",
       "      <td>50525170</td>\n",
       "      <td>2200</td>\n",
       "      <td>Library</td>\n",
       "      <td>505</td>\n",
       "      <td>Library</td>\n",
       "      <td>630420</td>\n",
       "      <td>Lib:Downloadable&amp;eBooks</td>\n",
       "      <td>12404</td>\n",
       "    </tr>\n",
       "    <tr>\n",
       "      <th>4</th>\n",
       "      <td>ECO CYCLE INC</td>\n",
       "      <td>2023-12-31</td>\n",
       "      <td>271.26</td>\n",
       "      <td>61040030</td>\n",
       "      <td>6200</td>\n",
       "      <td>Wastewater Utility</td>\n",
       "      <td>610</td>\n",
       "      <td>Public Works - Utilities</td>\n",
       "      <td>670055</td>\n",
       "      <td>Solid Waste Management Fees</td>\n",
       "      <td>12405</td>\n",
       "    </tr>\n",
       "    <tr>\n",
       "      <th>5</th>\n",
       "      <td>ECO CYCLE INC</td>\n",
       "      <td>2023-12-31</td>\n",
       "      <td>784.02</td>\n",
       "      <td>14515070</td>\n",
       "      <td>1100</td>\n",
       "      <td>General</td>\n",
       "      <td>145</td>\n",
       "      <td>Climate Initiatives</td>\n",
       "      <td>670055</td>\n",
       "      <td>Solid Waste Management Fees</td>\n",
       "      <td>12406</td>\n",
       "    </tr>\n",
       "  </tbody>\n",
       "</table>\n",
       "</div>"
      ],
      "text/plain": [
       "                    vendor_name transaction_date  transaction_amount  \\\n",
       "0                     CGRS, INC       2023-12-31              540.00   \n",
       "1  FIRE AND POLICE PENSION ASSN       2023-12-31            66231.80   \n",
       "2           AMERIGAS PROPANE LP       2023-12-31              146.31   \n",
       "3                OVERDRIVE, INC       2023-12-31            18550.29   \n",
       "4                 ECO CYCLE INC       2023-12-31              271.26   \n",
       "5                 ECO CYCLE INC       2023-12-31              784.02   \n",
       "\n",
       "  organization_code  fund           fund_desc department  \\\n",
       "0          31505010  7210               Fleet        315   \n",
       "1            110000  1100             General          0   \n",
       "2          31505010  7210               Fleet        315   \n",
       "3          50525170  2200             Library        505   \n",
       "4          61040030  6200  Wastewater Utility        610   \n",
       "5          14515070  1100             General        145   \n",
       "\n",
       "            department_desc  object_code          account_description  \\\n",
       "0        Facilities & Fleet       670395      Misc Purchased Services   \n",
       "1                   Unknown       205180     FPPA Death and Disablity   \n",
       "2        Facilities & Fleet       630320         Fleet:Propane Supply   \n",
       "3                   Library       630420      Lib:Downloadable&eBooks   \n",
       "4  Public Works - Utilities       670055  Solid Waste Management Fees   \n",
       "5       Climate Initiatives       670055  Solid Waste Management Fees   \n",
       "\n",
       "   ObjectId  \n",
       "0     12401  \n",
       "1     12402  \n",
       "2     12403  \n",
       "3     12404  \n",
       "4     12405  \n",
       "5     12406  "
      ]
     },
     "execution_count": 107,
     "metadata": {},
     "output_type": "execute_result"
    }
   ],
   "source": [
    "ap_data.head(6)"
   ]
  },
  {
   "cell_type": "markdown",
   "id": "203de81d",
   "metadata": {},
   "source": [
    "#### Ques 3 - What is the date range of the data? Identify the earliest and latest date in the data"
   ]
  },
  {
   "cell_type": "code",
   "execution_count": 108,
   "id": "5dded898",
   "metadata": {},
   "outputs": [
    {
     "name": "stdout",
     "output_type": "stream",
     "text": [
      "Earliest date: 2014-01-05\n",
      "Latest date: 2023-12-31\n"
     ]
    }
   ],
   "source": [
    "## Write code here\n",
    "\n",
    "earliest_date = ap_data['transaction_date'].min()\n",
    "latest_date = ap_data['transaction_date'].max()\n",
    "\n",
    "print(\"Earliest date:\", earliest_date.date())\n",
    "print(\"Latest date:\", latest_date.date())"
   ]
  },
  {
   "cell_type": "markdown",
   "id": "13311794",
   "metadata": {},
   "source": [
    "#### Ques 4 - List down the top 5 vendors and total spend with each in descending order of spend"
   ]
  },
  {
   "cell_type": "code",
   "execution_count": 119,
   "id": "2e6a492c",
   "metadata": {},
   "outputs": [
    {
     "name": "stdout",
     "output_type": "stream",
     "text": [
      "                               Vendor Name    Total Spend\n",
      "0                                  US BANK 242,598,471.49\n",
      "1                                     PERA 176,175,780.90\n",
      "2  CIGNA HEALTH AND LIFE INSURANCE COMPANY 133,985,683.38\n",
      "3          FIDELITY NATIONAL TITLE COMPANY  93,115,863.89\n",
      "4                             VANTAGEPOINT  67,209,061.55\n"
     ]
    }
   ],
   "source": [
    "## Write code here\n",
    "top_vendors = (ap_data.groupby('vendor_name')['transaction_amount'].sum().sort_values(ascending=False).head(5).reset_index())\n",
    "top_vendors.columns = ['Vendor Name', 'Total Spend']\n",
    "pd.options.display.float_format = '{:,.2f}'.format\n",
    "print(top_vendors)"
   ]
  },
  {
   "cell_type": "markdown",
   "id": "6f7023ae",
   "metadata": {},
   "source": [
    "#### Ques 5 - List down the top 5 vendors for 2023 and total spend with each in descending order of spend"
   ]
  },
  {
   "cell_type": "code",
   "execution_count": 121,
   "id": "a720642e",
   "metadata": {},
   "outputs": [
    {
     "name": "stdout",
     "output_type": "stream",
     "text": [
      "                               Vendor Name   Total Spend\n",
      "0                                     PERA 27,440,519.84\n",
      "1                                  US BANK 25,036,919.19\n",
      "2  CIGNA HEALTH AND LIFE INSURANCE COMPANY 20,302,334.97\n",
      "3                                      IRS 17,478,294.84\n",
      "4          ARCHER WESTERN CONSTRUCTION LLC 15,163,464.63\n"
     ]
    }
   ],
   "source": [
    "## Write code here\n",
    "\n",
    "#filter for 2023\n",
    "top_2023 = ap_data[ap_data['transaction_date'].dt.year == 2023]\n",
    "\n",
    "top_vendors_2023 = (top_2023.groupby('vendor_name')['transaction_amount'].sum().sort_values(ascending=False).head(5).reset_index())\n",
    "top_vendors_2023.columns = ['Vendor Name', 'Total Spend']\n",
    "print(top_vendors_2023)"
   ]
  },
  {
   "cell_type": "markdown",
   "id": "45c97d1b",
   "metadata": {},
   "source": [
    "#### Ques 6 - Which 3 vendors have had the largest increase in overall spend from 2022 to 2023? What is value of the increase for each vendor?"
   ]
  },
  {
   "cell_type": "code",
   "execution_count": 111,
   "id": "67903d50",
   "metadata": {},
   "outputs": [
    {
     "name": "stdout",
     "output_type": "stream",
     "text": [
      "                       vendor_name  Spend 2022   Spend 2023     Increase\n",
      "0                              IRS       22.32  17478294.84  17478272.52\n",
      "1     MARK YOUNG CONSTRUCTION, LLC   529920.26  14335468.54  13805548.28\n",
      "2  ARCHER WESTERN CONSTRUCTION LLC  3199552.36  15163464.63  11963912.27\n"
     ]
    }
   ],
   "source": [
    "#filtering 2022 and 2023\n",
    "top_2223 = ap_data[ap_data['transaction_date'].dt.year.isin([2022, 2023])]\n",
    "\n",
    "spend_2223 = top_2223.groupby([top_2223['vendor_name'], top_2223['transaction_date'].dt.year])['transaction_amount'].sum().unstack()\n",
    "\n",
    "#renaming columns\n",
    "spend_2223.columns = ['Spend 2022', 'Spend 2023']\n",
    "\n",
    "#differencing the increase\n",
    "spend_2223['Increase'] = spend_2223['Spend 2023'] - spend_2223['Spend 2022']\n",
    "\n",
    "#sorting top 3 \n",
    "top_increase_vendors = spend_2223.sort_values(by='Increase', ascending=False).head(3).reset_index()\n",
    "\n",
    "print(top_increase_vendors)\n"
   ]
  },
  {
   "cell_type": "markdown",
   "id": "db034866",
   "metadata": {},
   "source": [
    "#### Ques 7 - Which 3 accounts have had the largest increase in overall spend from 2022 to 2023? What is value of the increase for each account?"
   ]
  },
  {
   "cell_type": "code",
   "execution_count": 112,
   "id": "4f50303a",
   "metadata": {},
   "outputs": [
    {
     "name": "stdout",
     "output_type": "stream",
     "text": [
      "           account_description  Spend 2022   Spend 2023     Increase\n",
      "0  Capital: Bldgs & Bldg Equip  3436811.25  22967490.04  19530678.79\n",
      "1     Capital: Water Right Acq  3514679.36  15156526.25  11641846.89\n",
      "2      R&M: Bldgs & Bldg Equip  3537449.30  13723133.70  10185684.40\n"
     ]
    }
   ],
   "source": [
    "## Write code here\n",
    "\n",
    "#filtering 2022 and 2023\n",
    "top_2223 = ap_data[ap_data['transaction_date'].dt.year.isin([2022, 2023])]\n",
    "\n",
    "#grouping \n",
    "spend_2223 = top_2223.groupby([top_2223['account_description'], top_2223['transaction_date'].dt.year])['transaction_amount'].sum().unstack()\n",
    "\n",
    "#renaming columns\n",
    "spend_2223.columns = ['Spend 2022', 'Spend 2023']\n",
    "\n",
    "#calculating the increase\n",
    "spend_2223['Increase'] = spend_2223['Spend 2023'] - spend_2223['Spend 2022']\n",
    "\n",
    "#sorting top 3\n",
    "top_increase_accounts = spend_2223.sort_values(by='Increase', ascending=False).head(3).reset_index()\n",
    "\n",
    "print(top_increase_accounts)\n"
   ]
  },
  {
   "cell_type": "markdown",
   "id": "90d21f33",
   "metadata": {},
   "source": [
    "#### Ques 8 - Draw a month-on-month trend plot for total spend for Repairs & Maintenance"
   ]
  },
  {
   "cell_type": "code",
   "execution_count": 150,
   "id": "ee8c3aab",
   "metadata": {},
   "outputs": [
    {
     "name": "stdout",
     "output_type": "stream",
     "text": [
      "Highest Monthly Spend: $4,460,041.55 in 2023-09\n",
      "Lowest Monthly Spend:  $-34.57 in 2014-02\n"
     ]
    },
    {
     "data": {
      "text/plain": [
       "<Figure size 1000x600 with 0 Axes>"
      ]
     },
     "metadata": {},
     "output_type": "display_data"
    },
    {
     "data": {
      "image/png": "[encoded data removed]",
      "text/plain": [
       "<Figure size 640x480 with 1 Axes>"
      ]
     },
     "metadata": {},
     "output_type": "display_data"
    }
   ],
   "source": [
    "### Hint : Look into account descriptions to find transactions for Repairs & Maintenance\n",
    "## Write code here\n",
    "\n",
    "#filtering R&M\n",
    "RM = ap_data[ap_data['account_description'].str.contains(\"R&M\", case=False, na=False)]\n",
    "\n",
    "#year and month \n",
    "RM['year'] = RM['transaction_date'].dt.year\n",
    "RM['month'] = RM['transaction_date'].dt.month\n",
    "\n",
    "monthly_spend = RM.groupby(['year', 'month'])['transaction_amount'].sum().reset_index()\n",
    "\n",
    "#separate year lines \n",
    "pivot_table = monthly_spend.pivot(index='month', columns='year', values='transaction_amount')\n",
    "\n",
    "# Find max and min spend\n",
    "max_row = monthly_spend.loc[monthly_spend['transaction_amount'].idxmax()]\n",
    "min_row = monthly_spend.loc[monthly_spend['transaction_amount'].idxmin()]\n",
    "\n",
    "# Print results\n",
    "print(f\"Highest Monthly Spend: ${max_row['transaction_amount']:,.2f} in {int(max_row['year'])}-{int(max_row['month']):02}\")\n",
    "print(f\"Lowest Monthly Spend:  ${min_row['transaction_amount']:,.2f} in {int(min_row['year'])}-{int(min_row['month']):02}\")\n",
    "\n",
    "\n",
    "#plot\n",
    "plt.figure(figsize=(10, 6))\n",
    "pivot_table.plot(marker='o')\n",
    "plt.title(\"Repairs & Maintenance Total Spend by Month\")\n",
    "plt.xlabel(\"Month\")\n",
    "plt.ylabel(\"Total Spend\")\n",
    "plt.xticks(ticks=range(1, 13), labels=['Jan', 'Feb', 'Mar', 'Apr', 'May', 'Jun','Jul', 'Aug', 'Sep', 'Oct', 'Nov', 'Dec'], rotation=45)\n",
    "plt.grid(True, linestyle='--', alpha=0.6)\n",
    "plt.legend(title='Year', loc='upper left', ncol=1, bbox_to_anchor=(1, 1))\n",
    "plt.show()\n"
   ]
  },
  {
   "cell_type": "markdown",
   "id": "b984d3d0-0f78-4e2f-b25b-30f764abd826",
   "metadata": {},
   "source": [
    "Observations: \n",
    "\n",
    "1. The highest total spend about $4460041.55 was done in september 2023 for repairs and maintencence.\n",
    "2. The lowest total spend is in negative value which indicates that during the month of feb 2014 the reairs and maintenance suffered a loss of 34 dollars.\n",
    "3. After September 2023, there is decline in spending for consecutive months till the year end.\n",
    "4. Overall the trend shows gradual growth in spending over the years, with occasional spikes, especially noticeable in the post 2020 period."
   ]
  },
  {
   "cell_type": "markdown",
   "id": "b3ba06cb",
   "metadata": {},
   "source": [
    "#### Ques 9 - We need to identify tail supplier consolidation opportunities across the accounts. Identify what is the supplier split between top 80% and tail for each account."
   ]
  },
  {
   "cell_type": "markdown",
   "id": "f0c28e2f",
   "metadata": {},
   "source": [
    "'Tail' refers to the long list of vendors with low spend values (look up Pareto 80-20 Analysis for more info).\n",
    "\n",
    "You are expected split the vendors into two categories for each account:\n",
    "- By descending total spend, suppliers accounting for ~80% of the total spend in the account are 'Core Suppliers'\n",
    "- All remaining suppliers under that account are 'Tail Suppliers'\n",
    "- Final output will be % count of suppliers in each account split into Core and Tail\n",
    "\n",
    "This question asks you to create a data frame that will have 3 columns:\n",
    "- Account Description\n",
    "- % Core Suppliers\n",
    "- % Tail Suppliers"
   ]
  },
  {
   "cell_type": "code",
   "execution_count": 117,
   "id": "08ad1b63",
   "metadata": {},
   "outputs": [
    {
     "data": {
      "text/html": [
       "<div>\n",
       "<style scoped>\n",
       "    .dataframe tbody tr th:only-of-type {\n",
       "        vertical-align: middle;\n",
       "    }\n",
       "\n",
       "    .dataframe tbody tr th {\n",
       "        vertical-align: top;\n",
       "    }\n",
       "\n",
       "    .dataframe thead th {\n",
       "        text-align: right;\n",
       "    }\n",
       "</style>\n",
       "<table border=\"1\" class=\"dataframe\">\n",
       "  <thead>\n",
       "    <tr style=\"text-align: right;\">\n",
       "      <th></th>\n",
       "      <th>Account Description</th>\n",
       "      <th>% Core Suppliers</th>\n",
       "      <th>% Tail Suppliers</th>\n",
       "    </tr>\n",
       "  </thead>\n",
       "  <tbody>\n",
       "    <tr>\n",
       "      <th>0</th>\n",
       "      <td>ACH (Vendor E:Pmt) Payables</td>\n",
       "      <td>0.00</td>\n",
       "      <td>100.00</td>\n",
       "    </tr>\n",
       "    <tr>\n",
       "      <th>1</th>\n",
       "      <td>AP Vouchers Payable</td>\n",
       "      <td>72.73</td>\n",
       "      <td>27.27</td>\n",
       "    </tr>\n",
       "    <tr>\n",
       "      <th>2</th>\n",
       "      <td>AR Miscellaneous</td>\n",
       "      <td>50.00</td>\n",
       "      <td>50.00</td>\n",
       "    </tr>\n",
       "    <tr>\n",
       "      <th>3</th>\n",
       "      <td>AR UTB Charges for Svcs</td>\n",
       "      <td>0.00</td>\n",
       "      <td>100.00</td>\n",
       "    </tr>\n",
       "    <tr>\n",
       "      <th>4</th>\n",
       "      <td>Accounts Payable: Other</td>\n",
       "      <td>0.00</td>\n",
       "      <td>100.00</td>\n",
       "    </tr>\n",
       "    <tr>\n",
       "      <th>...</th>\n",
       "      <td>...</td>\n",
       "      <td>...</td>\n",
       "      <td>...</td>\n",
       "    </tr>\n",
       "    <tr>\n",
       "      <th>332</th>\n",
       "      <td>Vouchers Payable: by JV</td>\n",
       "      <td>33.33</td>\n",
       "      <td>66.67</td>\n",
       "    </tr>\n",
       "    <tr>\n",
       "      <th>333</th>\n",
       "      <td>Water</td>\n",
       "      <td>20.00</td>\n",
       "      <td>80.00</td>\n",
       "    </tr>\n",
       "    <tr>\n",
       "      <th>334</th>\n",
       "      <td>Water &amp; Ditch Assmts: Other</td>\n",
       "      <td>5.56</td>\n",
       "      <td>94.44</td>\n",
       "    </tr>\n",
       "    <tr>\n",
       "      <th>335</th>\n",
       "      <td>Water &amp; Ditch Assmts:Windy Gap</td>\n",
       "      <td>0.00</td>\n",
       "      <td>100.00</td>\n",
       "    </tr>\n",
       "    <tr>\n",
       "      <th>336</th>\n",
       "      <td>Youth Corps</td>\n",
       "      <td>0.00</td>\n",
       "      <td>100.00</td>\n",
       "    </tr>\n",
       "  </tbody>\n",
       "</table>\n",
       "<p>337 rows × 3 columns</p>\n",
       "</div>"
      ],
      "text/plain": [
       "                Account Description  % Core Suppliers  % Tail Suppliers\n",
       "0       ACH (Vendor E:Pmt) Payables              0.00            100.00\n",
       "1               AP Vouchers Payable             72.73             27.27\n",
       "2                  AR Miscellaneous             50.00             50.00\n",
       "3           AR UTB Charges for Svcs              0.00            100.00\n",
       "4           Accounts Payable: Other              0.00            100.00\n",
       "..                              ...               ...               ...\n",
       "332         Vouchers Payable: by JV             33.33             66.67\n",
       "333                           Water             20.00             80.00\n",
       "334     Water & Ditch Assmts: Other              5.56             94.44\n",
       "335  Water & Ditch Assmts:Windy Gap              0.00            100.00\n",
       "336                     Youth Corps              0.00            100.00\n",
       "\n",
       "[337 rows x 3 columns]"
      ]
     },
     "execution_count": 117,
     "metadata": {},
     "output_type": "execute_result"
    }
   ],
   "source": [
    "### Hint : Look up Pareto 80-20 Analysis and how it is used for tail supplier consolidation\n",
    "## Write code here\n",
    "\n",
    "\n",
    "pareto_results = []\n",
    "\n",
    "#group by account_description\n",
    "for account, group in ap_data.groupby('account_description'):\n",
    "\n",
    "#group by vendor and calculate total spend per vendor\n",
    "vendor_spend = group.groupby('vendor_name')['transaction_amount'].sum().sort_values(ascending=False)\n",
    "\n",
    "total_spend = vendor_spend.sum()\n",
    "cumulative_spend = vendor_spend.cumsum()\n",
    "\n",
    "#cutoff for 80% of spend\n",
    "core_cutoff = cumulative_spend <= 0.8 * total_spend\n",
    "\n",
    "#count suppliers\n",
    "core_supplier_count = core_cutoff.sum()\n",
    "total_supplier_count = len(vendor_spend)\n",
    "tail_supplier_count = total_supplier_count - core_supplier_count\n",
    "\n",
    "#calculate percentages\n",
    "core_percentage = round((core_supplier_count / total_supplier_count) * 100, 2)\n",
    "tail_percentage = round((tail_supplier_count / total_supplier_count) * 100, 2)\n",
    "\n",
    "#append to results\n",
    "pareto_results.append([account, core_percentage, tail_percentage])\n",
    "\n",
    "#create final DataFrame\n",
    "pareto_df = pd.DataFrame(pareto_results, columns=['Account Description', '% Core Suppliers', '% Tail Suppliers'])\n",
    "\n",
    "pareto_df"
   ]
  },
  {
   "cell_type": "markdown",
   "id": "30c00300-a1f5-4ffc-b4f3-bd2f5d38ed15",
   "metadata": {},
   "source": [
    "**Summary**\n",
    "\n",
    "***Data Preparation:***\n",
    "\n",
    "1. Loaded the libraries 'pandas', 'matplotlib.pyplot', 'matplotlib.ticker' and to ignore warnings that are not important.\n",
    "2. Imported and read the dataset \"Account_payable\" for Spend Analysis. Checked head(10) if they have successfully loaded the dataset. The dataset consists of 11 columns and 381,283 rows.\n",
    "   \n",
    "***Handling inconsistencies:***\n",
    "\n",
    "1. Checked for missing values and found that department_desc has 8765 missing values which is approximately 2.3%.\n",
    "2. Since department_desc is the description of the organizational unit that provides one or more services, we transformed the missing values to \"Unknown\".\n",
    "3. Datatype for 'transaction_date' converted to date format, and 'organization_code', 'fund', and 'department' to object format.\n",
    "\n",
    "***Analysis:***\n",
    "\n",
    "1. The earliest date is 2014-01-05 and the latest date is 2023-12-31 of the dataset (Question 3).\n",
    "2. Calculated top 5 vendors name and their total spend in descending order(Question 4).\n",
    "4. Calculated top 5 vendors for 2023 and total spend with each in descending order of spend(Question 5).\n",
    "5. Calculated top 5 vendors for 2023 and total spend with each in descending order of spend(Question 6).\n",
    "6. Top 3 accounts that has the largest increase in overall spend from 2022 to 2023 and the increase value(Question 7) was calculated.\n",
    "7. Line graph for month-on-month trend plot for total spend for Repairs & Maintenance was plotted.\n",
    "8. We also found the supplier split between top 80% and tail for each account."
   ]
  },
  {
   "cell_type": "code",
   "execution_count": null,
   "id": "c6ca6ae1-341c-4016-bbfd-828bc01814f6",
   "metadata": {},
   "outputs": [],
   "source": []
  },
  {
   "cell_type": "code",
   "execution_count": null,
   "id": "4306d9d8-88ac-4c84-ab8f-06561511dbd3",
   "metadata": {},
   "outputs": [],
   "source": []
  },
  {
   "cell_type": "code",
   "execution_count": null,
   "id": "2d951e88-122d-4af2-a0a1-a5f64b1d02fe",
   "metadata": {},
   "outputs": [],
   "source": []
  },
  {
   "cell_type": "code",
   "execution_count": null,
   "id": "e959cff4-4be6-4862-b237-2e58a8e305b0",
   "metadata": {},
   "outputs": [],
   "source": []
  }
 ],
 "metadata": {
  "kernelspec": {
   "display_name": "Python 3 (ipykernel)",
   "language": "python",
   "name": "python3"
  },
  "language_info": {
   "codemirror_mode": {
    "name": "ipython",
    "version": 3
   },
   "file_extension": ".py",
   "mimetype": "text/x-python",
   "name": "python",
   "nbconvert_exporter": "python",
   "pygments_lexer": "ipython3",
   "version": "3.11.8"
  }
 },
 "nbformat": 4,
 "nbformat_minor": 5
}
